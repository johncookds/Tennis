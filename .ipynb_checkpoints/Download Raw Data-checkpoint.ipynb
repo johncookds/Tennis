{
 "cells": [
  {
   "cell_type": "code",
   "execution_count": 23,
   "metadata": {},
   "outputs": [],
   "source": [
    "import pandas as pd\n",
    "import requests\n",
    "import time"
   ]
  },
  {
   "cell_type": "code",
   "execution_count": 27,
   "metadata": {},
   "outputs": [],
   "source": [
    "class ATP_Downloader(object):\n",
    "    def __init__(self):\n",
    "        self.url=\"https://raw.githubusercontent.com/JeffSackmann/tennis_atp/master/\"\n",
    "    def get(self,year,to=False):\n",
    "        data=requests.get(self.url + \"atp_matches_{}.csv\".format(year))\n",
    "        if to:\n",
    "            with open(to,'wb') as f:\n",
    "                f.write(data.content)\n",
    "            print(\"data written to {}\".format(to))\n",
    "            time.sleep(2)\n",
    "        else:\n",
    "            return data"
   ]
  },
  {
   "cell_type": "code",
   "execution_count": 28,
   "metadata": {},
   "outputs": [],
   "source": [
    "d=ATP_Downloader()"
   ]
  },
  {
   "cell_type": "code",
   "execution_count": null,
   "metadata": {},
   "outputs": [
    {
     "name": "stdout",
     "output_type": "stream",
     "text": [
      "data written to ./raw_data/atp_matches_2000.csv\n",
      "data written to ./raw_data/atp_matches_2001.csv\n",
      "data written to ./raw_data/atp_matches_2002.csv\n",
      "data written to ./raw_data/atp_matches_2003.csv\n",
      "data written to ./raw_data/atp_matches_2004.csv\n",
      "data written to ./raw_data/atp_matches_2005.csv\n",
      "data written to ./raw_data/atp_matches_2006.csv\n",
      "data written to ./raw_data/atp_matches_2007.csv\n",
      "data written to ./raw_data/atp_matches_2008.csv\n",
      "data written to ./raw_data/atp_matches_2009.csv\n",
      "data written to ./raw_data/atp_matches_2010.csv\n",
      "data written to ./raw_data/atp_matches_2011.csv\n",
      "data written to ./raw_data/atp_matches_2012.csv\n",
      "data written to ./raw_data/atp_matches_2013.csv\n",
      "data written to ./raw_data/atp_matches_2014.csv\n"
     ]
    }
   ],
   "source": [
    "for yr in range(2000,2019):\n",
    "    z=d.get(yr,to='./raw_data/atp_matches_{}.csv'.format(yr))"
   ]
  }
 ],
 "metadata": {
  "kernelspec": {
   "display_name": "Python 3",
   "language": "python",
   "name": "python3"
  },
  "language_info": {
   "codemirror_mode": {
    "name": "ipython",
    "version": 3
   },
   "file_extension": ".py",
   "mimetype": "text/x-python",
   "name": "python",
   "nbconvert_exporter": "python",
   "pygments_lexer": "ipython3",
   "version": "3.6.6"
  }
 },
 "nbformat": 4,
 "nbformat_minor": 2
}
