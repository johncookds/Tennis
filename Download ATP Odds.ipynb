{
 "cells": [
  {
   "cell_type": "markdown",
   "metadata": {},
   "source": [
    "Download ATP odds using selenium web driver from odds portal"
   ]
  },
  {
   "cell_type": "code",
   "execution_count": 1,
   "metadata": {},
   "outputs": [],
   "source": [
    "import requests\n",
    "import selenium\n",
    "import time\n",
    "from bs4 import BeautifulSoup"
   ]
  },
  {
   "cell_type": "code",
   "execution_count": 2,
   "metadata": {},
   "outputs": [],
   "source": [
    "from selenium import webdriver"
   ]
  },
  {
   "cell_type": "code",
   "execution_count": 3,
   "metadata": {},
   "outputs": [],
   "source": [
    "def drive_and_dump(url,file):\n",
    "    from selenium import webdriver\n",
    "    driver=webdriver.Chrome()\n",
    "    driver.get(url)\n",
    "    with open(file,'w+') as f:\n",
    "        f.write(driver.page_source)\n",
    "    print('page {} dumped to {}'.format(url,file))"
   ]
  },
  {
   "cell_type": "markdown",
   "metadata": {},
   "source": [
    "# Results Page"
   ]
  },
  {
   "cell_type": "code",
   "execution_count": 5,
   "metadata": {},
   "outputs": [],
   "source": [
    "url='http://www.oddsportal.com/tennis/results/'\n",
    "source='./odds_data/raw_pages/results.html'\n",
    "org='ATP'\n",
    "base='http://www.oddsportal.com'"
   ]
  },
  {
   "cell_type": "code",
   "execution_count": 8,
   "metadata": {},
   "outputs": [
    {
     "name": "stdout",
     "output_type": "stream",
     "text": [
      "page http://www.oddsportal.com/tennis/results/ dumped to ./odds_data/raw_pages/results.html\n"
     ]
    }
   ],
   "source": [
    "drive_and_dump(url,source)"
   ]
  },
  {
   "cell_type": "code",
   "execution_count": 6,
   "metadata": {},
   "outputs": [],
   "source": [
    "soup = BeautifulSoup(open(source))"
   ]
  },
  {
   "cell_type": "code",
   "execution_count": 7,
   "metadata": {},
   "outputs": [],
   "source": [
    "body=soup.find('tbody')"
   ]
  },
  {
   "cell_type": "code",
   "execution_count": 8,
   "metadata": {},
   "outputs": [],
   "source": [
    "tourneys=[]\n",
    "for entry in body.findAll('a'):\n",
    "    if org in entry.text:\n",
    "        tourneys.append(entry)"
   ]
  },
  {
   "cell_type": "code",
   "execution_count": 9,
   "metadata": {},
   "outputs": [
    {
     "data": {
      "text/plain": [
       "<a foo=\"f\" href=\"/tennis/argentina/atp-buenos-aires/results/\">ATP Buenos Aires</a>"
      ]
     },
     "execution_count": 9,
     "metadata": {},
     "output_type": "execute_result"
    }
   ],
   "source": [
    "tourneys[0]"
   ]
  },
  {
   "cell_type": "code",
   "execution_count": 10,
   "metadata": {},
   "outputs": [
    {
     "data": {
      "text/plain": [
       "194"
      ]
     },
     "execution_count": 10,
     "metadata": {},
     "output_type": "execute_result"
    }
   ],
   "source": [
    "len(tourneys)"
   ]
  },
  {
   "cell_type": "code",
   "execution_count": 11,
   "metadata": {},
   "outputs": [
    {
     "data": {
      "text/plain": [
       "'/tennis/argentina/atp-buenos-aires/results/'"
      ]
     },
     "execution_count": 11,
     "metadata": {},
     "output_type": "execute_result"
    }
   ],
   "source": [
    "tourneys[0]['href']"
   ]
  },
  {
   "cell_type": "code",
   "execution_count": 12,
   "metadata": {},
   "outputs": [
    {
     "data": {
      "text/plain": [
       "[<a foo=\"f\" href=\"/tennis/india/atp-chennai/results/\">ATP Chennai</a>,\n",
       " <a foo=\"f\" href=\"/tennis/india/atp-chennai-doubles/results/\">ATP Chennai Doubles</a>,\n",
       " <a foo=\"f\" href=\"/tennis/india/atp-pune/results/\">ATP Pune</a>,\n",
       " <a foo=\"f\" href=\"/tennis/india/atp-pune-doubles/results/\">ATP Pune Doubles</a>,\n",
       " <a foo=\"f\" href=\"/tennis/italy/atp-rome/results/\">ATP Rome</a>,\n",
       " <a foo=\"f\" href=\"/tennis/italy/atp-rome-doubles/results/\">ATP Rome Doubles</a>,\n",
       " <a foo=\"f\" href=\"/tennis/japan/atp-tokyo/results/\">ATP Tokyo</a>,\n",
       " <a foo=\"f\" href=\"/tennis/japan/atp-tokyo-doubles/results/\">ATP Tokyo Doubles</a>,\n",
       " <a foo=\"f\" href=\"/tennis/malaysia/atp-kuala-lumpur/results/\">ATP Kuala Lumpur</a>,\n",
       " <a foo=\"f\" href=\"/tennis/malaysia/atp-kuala-lumpur-doubles/results/\">ATP Kuala Lumpur Doubles</a>,\n",
       " <a foo=\"f\" href=\"/tennis/mexico/atp-acapulco/results/\">ATP Acapulco</a>,\n",
       " <a foo=\"f\" href=\"/tennis/mexico/atp-acapulco-doubles/results/\">ATP Acapulco Doubles</a>,\n",
       " <a foo=\"f\" href=\"/tennis/mexico/atp-los-cabos/results/\">ATP Los Cabos</a>,\n",
       " <a foo=\"f\" href=\"/tennis/mexico/atp-los-cabos-doubles/results/\">ATP Los Cabos Doubles</a>,\n",
       " <a foo=\"f\" href=\"/tennis/monaco/atp-monte-carlo/results/\">ATP Monte Carlo</a>,\n",
       " <a foo=\"f\" href=\"/tennis/monaco/atp-monte-carlo-doubles/results/\">ATP Monte Carlo Doubles</a>,\n",
       " <a foo=\"f\" href=\"/tennis/morocco/atp-casablanca/results/\">ATP Casablanca</a>,\n",
       " <a foo=\"f\" href=\"/tennis/morocco/atp-casablanca-doubles/results/\">ATP Casablanca Doubles</a>,\n",
       " <a foo=\"f\" href=\"/tennis/morocco/atp-marrakech/results/\">ATP Marrakech</a>,\n",
       " <a foo=\"f\" href=\"/tennis/morocco/atp-marrakech-doubles/results/\">ATP Marrakech Doubles</a>,\n",
       " <a foo=\"f\" href=\"/tennis/netherlands/atp-hertogenbosch/results/\">ATP Hertogenbosch</a>,\n",
       " <a foo=\"f\" href=\"/tennis/netherlands/atp-hertogenbosch-doubles/results/\">ATP Hertogenbosch Doubles</a>,\n",
       " <a foo=\"f\" href=\"/tennis/netherlands/atp-rotterdam/results/\">ATP Rotterdam</a>,\n",
       " <a foo=\"f\" href=\"/tennis/netherlands/atp-rotterdam-doubles/results/\">ATP Rotterdam Doubles</a>,\n",
       " <a foo=\"f\" href=\"/tennis/new-zealand/atp-auckland/results/\">ATP Auckland</a>,\n",
       " <a foo=\"f\" href=\"/tennis/new-zealand/atp-auckland-doubles/results/\">ATP Auckland Doubles</a>,\n",
       " <a foo=\"f\" href=\"/tennis/portugal/atp-estoril/results/\">ATP Estoril</a>,\n",
       " <a foo=\"f\" href=\"/tennis/portugal/atp-estoril-doubles/results/\">ATP Estoril Doubles</a>,\n",
       " <a foo=\"f\" href=\"/tennis/qatar/atp-doha/results/\">ATP Doha</a>,\n",
       " <a foo=\"f\" href=\"/tennis/qatar/atp-doha-doubles/results/\">ATP Doha Doubles</a>,\n",
       " <a foo=\"f\" href=\"/tennis/romania/atp-bucharest/results/\">ATP Bucharest</a>,\n",
       " <a foo=\"f\" href=\"/tennis/romania/atp-bucharest-doubles/results/\">ATP Bucharest Doubles</a>,\n",
       " <a foo=\"f\" href=\"/tennis/russia/atp-moscow/results/\">ATP Moscow</a>,\n",
       " <a foo=\"f\" href=\"/tennis/russia/atp-moscow-doubles/results/\">ATP Moscow Doubles</a>,\n",
       " <a foo=\"f\" href=\"/tennis/russia/atp-st-petersburg/results/\">ATP St. Petersburg</a>,\n",
       " <a foo=\"f\" href=\"/tennis/russia/atp-st-petersburg-doubles/results/\">ATP St. Petersburg Doubles</a>,\n",
       " <a foo=\"f\" href=\"/tennis/serbia/atp-belgrade/results/\">ATP Belgrade</a>,\n",
       " <a foo=\"f\" href=\"/tennis/serbia/atp-belgrade-doubles/results/\">ATP Belgrade Doubles</a>,\n",
       " <a foo=\"f\" href=\"/tennis/south-africa/atp-johannesburg/results/\">ATP Johannesburg</a>,\n",
       " <a foo=\"f\" href=\"/tennis/south-africa/atp-johannesburg-doubles/results/\">ATP Johannesburg Doubles</a>,\n",
       " <a foo=\"f\" href=\"/tennis/spain/atp-barcelona/results/\">ATP Barcelona</a>,\n",
       " <a foo=\"f\" href=\"/tennis/spain/atp-barcelona-doubles/results/\">ATP Barcelona Doubles</a>,\n",
       " <a foo=\"f\" href=\"/tennis/spain/atp-madrid/results/\">ATP Madrid</a>,\n",
       " <a foo=\"f\" href=\"/tennis/spain/atp-madrid-doubles/results/\">ATP Madrid Doubles</a>,\n",
       " <a foo=\"f\" href=\"/tennis/spain/atp-valencia/results/\">ATP Valencia</a>,\n",
       " <a foo=\"f\" href=\"/tennis/spain/atp-valencia-doubles/results/\">ATP Valencia Doubles</a>,\n",
       " <a foo=\"f\" href=\"/tennis/sweden/atp-bastad/results/\">ATP Bastad</a>,\n",
       " <a foo=\"f\" href=\"/tennis/sweden/atp-bastad-doubles/results/\">ATP Bastad Doubles</a>,\n",
       " <a foo=\"f\" href=\"/tennis/sweden/atp-stockholm/results/\">ATP Stockholm</a>,\n",
       " <a foo=\"f\" href=\"/tennis/sweden/atp-stockholm-doubles/results/\">ATP Stockholm Doubles</a>,\n",
       " <a foo=\"f\" href=\"/tennis/switzerland/atp-basel/results/\">ATP Basel</a>,\n",
       " <a foo=\"f\" href=\"/tennis/switzerland/atp-basel-doubles/results/\">ATP Basel Doubles</a>,\n",
       " <a foo=\"f\" href=\"/tennis/switzerland/atp-geneva/results/\">ATP Geneva</a>,\n",
       " <a foo=\"f\" href=\"/tennis/switzerland/atp-geneva-doubles/results/\">ATP Geneva Doubles</a>,\n",
       " <a foo=\"f\" href=\"/tennis/switzerland/atp-gstaad/results/\">ATP Gstaad</a>,\n",
       " <a foo=\"f\" href=\"/tennis/switzerland/atp-gstaad-doubles/results/\">ATP Gstaad Doubles</a>,\n",
       " <a foo=\"f\" href=\"/tennis/thailand/atp-bangkok/results/\">ATP Bangkok</a>,\n",
       " <a foo=\"f\" href=\"/tennis/thailand/atp-bangkok-doubles/results/\">ATP Bangkok Doubles</a>,\n",
       " <a foo=\"f\" href=\"/tennis/turkey/atp-antalya/results/\">ATP Antalya</a>,\n",
       " <a foo=\"f\" href=\"/tennis/turkey/atp-antalya-doubles/results/\">ATP Antalya Doubles</a>,\n",
       " <a foo=\"f\" href=\"/tennis/turkey/atp-istanbul/results/\">ATP Istanbul</a>,\n",
       " <a foo=\"f\" href=\"/tennis/turkey/atp-istanbul-doubles/results/\">ATP Istanbul Doubles</a>,\n",
       " <a foo=\"f\" href=\"/tennis/usa/atp-atlanta/results/\">ATP Atlanta</a>,\n",
       " <a foo=\"f\" href=\"/tennis/usa/atp-atlanta-doubles/results/\">ATP Atlanta Doubles</a>,\n",
       " <a foo=\"f\" href=\"/tennis/usa/atp-cincinnati/results/\">ATP Cincinnati</a>,\n",
       " <a foo=\"f\" href=\"/tennis/usa/atp-cincinnati-doubles/results/\">ATP Cincinnati Doubles</a>,\n",
       " <a foo=\"f\" href=\"/tennis/usa/atp-delray-beach/results/\">ATP Delray Beach</a>,\n",
       " <a foo=\"f\" href=\"/tennis/usa/atp-delray-beach-doubles/results/\">ATP Delray Beach Doubles</a>,\n",
       " <a foo=\"f\" href=\"/tennis/usa/atp-houston/results/\">ATP Houston</a>,\n",
       " <a foo=\"f\" href=\"/tennis/usa/atp-houston-doubles/results/\">ATP Houston Doubles</a>,\n",
       " <a foo=\"f\" href=\"/tennis/usa/atp-indian-wells/results/\">ATP Indian Wells</a>,\n",
       " <a foo=\"f\" href=\"/tennis/usa/atp-indian-wells-doubles/results/\">ATP Indian Wells Doubles</a>,\n",
       " <a foo=\"f\" href=\"/tennis/usa/atp-indianapolis/results/\">ATP Indianapolis</a>,\n",
       " <a foo=\"f\" href=\"/tennis/usa/atp-indianapolis-doubles/results/\">ATP Indianapolis Doubles</a>,\n",
       " <a foo=\"f\" href=\"/tennis/usa/atp-los-angeles/results/\">ATP Los Angeles</a>,\n",
       " <a foo=\"f\" href=\"/tennis/usa/atp-los-angeles-doubles/results/\">ATP Los Angeles Doubles</a>,\n",
       " <a foo=\"f\" href=\"/tennis/usa/atp-memphis/results/\">ATP Memphis</a>,\n",
       " <a foo=\"f\" href=\"/tennis/usa/atp-memphis-doubles/results/\">ATP Memphis Doubles</a>,\n",
       " <a foo=\"f\" href=\"/tennis/usa/atp-miami/results/\">ATP Miami</a>,\n",
       " <a foo=\"f\" href=\"/tennis/usa/atp-miami-doubles/results/\">ATP Miami Doubles</a>,\n",
       " <a foo=\"f\" href=\"/tennis/usa/atp-new-haven/results/\">ATP New Haven</a>,\n",
       " <a foo=\"f\" href=\"/tennis/usa/atp-new-haven-doubles/results/\">ATP New Haven Doubles</a>,\n",
       " <a foo=\"f\" href=\"/tennis/usa/atp-new-york/results/\">ATP New York</a>,\n",
       " <a foo=\"f\" href=\"/tennis/usa/atp-new-york-doubles/results/\">ATP New York Doubles</a>,\n",
       " <a foo=\"f\" href=\"/tennis/usa/atp-newport/results/\">ATP Newport</a>,\n",
       " <a foo=\"f\" href=\"/tennis/usa/atp-newport-doubles/results/\">ATP Newport Doubles</a>,\n",
       " <a foo=\"f\" href=\"/tennis/usa/atp-san-jose/results/\">ATP San Jose</a>,\n",
       " <a foo=\"f\" href=\"/tennis/usa/atp-san-jose-doubles/results/\">ATP San Jose Doubles</a>,\n",
       " <a foo=\"f\" href=\"/tennis/usa/atp-us-open/results/\">ATP US Open</a>,\n",
       " <a foo=\"f\" href=\"/tennis/usa/atp-us-open-doubles/results/\">ATP US Open Doubles</a>,\n",
       " <a foo=\"f\" href=\"/tennis/usa/atp-washington/results/\">ATP Washington</a>,\n",
       " <a foo=\"f\" href=\"/tennis/usa/atp-washington-doubles/results/\">ATP Washington Doubles</a>,\n",
       " <a foo=\"f\" href=\"/tennis/usa/atp-winston-salem/results/\">ATP Winston-Salem</a>,\n",
       " <a foo=\"f\" href=\"/tennis/usa/atp-winston-salem-doubles/results/\">ATP Winston-Salem Doubles</a>,\n",
       " <a foo=\"f\" href=\"/tennis/united-arab-emirates/atp-dubai/results/\">ATP Dubai</a>,\n",
       " <a foo=\"f\" href=\"/tennis/united-arab-emirates/atp-dubai-doubles/results/\">ATP Dubai Doubles</a>,\n",
       " <a foo=\"f\" href=\"/tennis/united-kingdom/atp-eastbourne/results/\">ATP Eastbourne</a>,\n",
       " <a foo=\"f\" href=\"/tennis/united-kingdom/atp-eastbourne-doubles/results/\">ATP Eastbourne Doubles</a>,\n",
       " <a foo=\"f\" href=\"/tennis/united-kingdom/atp-london/results/\">ATP London</a>,\n",
       " <a foo=\"f\" href=\"/tennis/united-kingdom/atp-london-doubles/results/\">ATP London Doubles</a>,\n",
       " <a foo=\"f\" href=\"/tennis/united-kingdom/atp-nottingham/results/\">ATP Nottingham</a>,\n",
       " <a foo=\"f\" href=\"/tennis/united-kingdom/atp-nottingham-doubles/results/\">ATP Nottingham Doubles</a>,\n",
       " <a foo=\"f\" href=\"/tennis/united-kingdom/atp-wimbledon/results/\">ATP Wimbledon</a>,\n",
       " <a foo=\"f\" href=\"/tennis/united-kingdom/atp-wimbledon-doubles/results/\">ATP Wimbledon Doubles</a>,\n",
       " <a foo=\"f\" href=\"/tennis/world/atp-davis-cup-group-i/results/\">ATP Davis Cup - Group I</a>,\n",
       " <a foo=\"f\" href=\"/tennis/world/atp-davis-cup-group-i-doubles/results/\">ATP Davis Cup - Group I Doubles</a>,\n",
       " <a foo=\"f\" href=\"/tennis/world/atp-davis-cup-group-ii/results/\">ATP Davis Cup - Group II</a>,\n",
       " <a foo=\"f\" href=\"/tennis/world/atp-davis-cup-group-ii-doubles/results/\">ATP Davis Cup - Group II Doubles</a>,\n",
       " <a foo=\"f\" href=\"/tennis/world/atp-davis-cup-group-iii/results/\">ATP Davis Cup - Group III</a>,\n",
       " <a foo=\"f\" href=\"/tennis/world/atp-davis-cup-group-iii-doubles/results/\">ATP Davis Cup - Group III Doubles</a>,\n",
       " <a foo=\"f\" href=\"/tennis/world/atp-davis-cup-group-iv/results/\">ATP Davis Cup - Group IV</a>,\n",
       " <a foo=\"f\" href=\"/tennis/world/atp-davis-cup-group-iv-doubles/results/\">ATP Davis Cup - Group IV Doubles</a>,\n",
       " <a foo=\"f\" href=\"/tennis/world/atp-davis-cup-world-group/results/\">ATP Davis Cup - World Group</a>,\n",
       " <a foo=\"f\" href=\"/tennis/world/atp-davis-cup-world-group-doubles/results/\">ATP Davis Cup - World Group Doubles</a>,\n",
       " <a foo=\"f\" href=\"/tennis/world/atp-finals-london/results/\">ATP Finals - London</a>,\n",
       " <a foo=\"f\" href=\"/tennis/world/atp-finals-london-doubles/results/\">ATP Finals - London Doubles</a>,\n",
       " <a foo=\"f\" href=\"/tennis/world/atp-next-gen-finals-milan/results/\">ATP Next Gen Finals - Milan</a>,\n",
       " <a foo=\"f\" href=\"/tennis/world/atp-olympic-games/results/\">ATP Olympic Games</a>,\n",
       " <a foo=\"f\" href=\"/tennis/world/atp-olympic-games-doubles/results/\">ATP Olympic Games Doubles</a>]"
      ]
     },
     "execution_count": 12,
     "metadata": {},
     "output_type": "execute_result"
    }
   ],
   "source": [
    "tourneys[75:]"
   ]
  },
  {
   "cell_type": "code",
   "execution_count": 64,
   "metadata": {},
   "outputs": [
    {
     "data": {
      "text/plain": [
       "['', 'tennis', 'world', 'atp-olympic-games-doubles', 'results', '']"
      ]
     },
     "execution_count": 64,
     "metadata": {},
     "output_type": "execute_result"
    }
   ],
   "source": [
    "\"/tennis/world/atp-olympic-games-doubles/results/\".split('/')"
   ]
  },
  {
   "cell_type": "code",
   "execution_count": 69,
   "metadata": {},
   "outputs": [
    {
     "data": {
      "text/plain": [
       "'/tennis/argentina/atp-buenos-aires-2017/results/'"
      ]
     },
     "execution_count": 69,
     "metadata": {},
     "output_type": "execute_result"
    }
   ],
   "source": [
    "newu"
   ]
  },
  {
   "cell_type": "code",
   "execution_count": 14,
   "metadata": {},
   "outputs": [],
   "source": [
    "import os"
   ]
  },
  {
   "cell_type": "code",
   "execution_count": 15,
   "metadata": {},
   "outputs": [],
   "source": [
    "def drive_and_move_and_dump(url,file):\n",
    "    from selenium import webdriver\n",
    "    driver=webdriver.Chrome()\n",
    "    driver.get(url)\n",
    "    with open(file+'-2018.html','w+') as f:\n",
    "        f.write(driver.page_source)\n",
    "    for yr in range(2017,2008,-1):\n",
    "        time.sleep(2)\n",
    "        newu='/'.join(url.split('/')[:-2])+'-{}/results/'.format(yr)\n",
    "        driver.get(newu)\n",
    "        with open(file+'-{}.html'.format(yr),'w+') as f:\n",
    "            f.write(driver.page_source)\n",
    "    print('page {} dumped to {}'.format(url,file))"
   ]
  },
  {
   "cell_type": "code",
   "execution_count": 29,
   "metadata": {
    "scrolled": true
   },
   "outputs": [
    {
     "name": "stdout",
     "output_type": "stream",
     "text": [
      "page http://www.oddsportal.com/tennis/france/atp-montpellier/results/ dumped to ./odds_data/raw_pages/ATP Montpellier/ATP Montpellier\n",
      "page http://www.oddsportal.com/tennis/france/atp-montpellier-doubles/results/ dumped to ./odds_data/raw_pages/ATP Montpellier Doubles/ATP Montpellier Doubles\n",
      "page http://www.oddsportal.com/tennis/france/atp-nice/results/ dumped to ./odds_data/raw_pages/ATP Nice/ATP Nice\n",
      "page http://www.oddsportal.com/tennis/france/atp-nice-doubles/results/ dumped to ./odds_data/raw_pages/ATP Nice Doubles/ATP Nice Doubles\n",
      "page http://www.oddsportal.com/tennis/france/atp-paris/results/ dumped to ./odds_data/raw_pages/ATP Paris/ATP Paris\n",
      "page http://www.oddsportal.com/tennis/france/atp-paris-doubles/results/ dumped to ./odds_data/raw_pages/ATP Paris Doubles/ATP Paris Doubles\n",
      "page http://www.oddsportal.com/tennis/germany/atp-dusseldorf/results/ dumped to ./odds_data/raw_pages/ATP Dusseldorf/ATP Dusseldorf\n",
      "page http://www.oddsportal.com/tennis/germany/atp-dusseldorf-doubles/results/ dumped to ./odds_data/raw_pages/ATP Dusseldorf Doubles/ATP Dusseldorf Doubles\n",
      "page http://www.oddsportal.com/tennis/germany/atp-halle/results/ dumped to ./odds_data/raw_pages/ATP Halle/ATP Halle\n",
      "page http://www.oddsportal.com/tennis/germany/atp-halle-doubles/results/ dumped to ./odds_data/raw_pages/ATP Halle Doubles/ATP Halle Doubles\n",
      "page http://www.oddsportal.com/tennis/germany/atp-hamburg/results/ dumped to ./odds_data/raw_pages/ATP Hamburg/ATP Hamburg\n",
      "page http://www.oddsportal.com/tennis/germany/atp-hamburg-doubles/results/ dumped to ./odds_data/raw_pages/ATP Hamburg Doubles/ATP Hamburg Doubles\n",
      "page http://www.oddsportal.com/tennis/germany/atp-munich/results/ dumped to ./odds_data/raw_pages/ATP Munich/ATP Munich\n",
      "page http://www.oddsportal.com/tennis/germany/atp-munich-doubles/results/ dumped to ./odds_data/raw_pages/ATP Munich Doubles/ATP Munich Doubles\n",
      "page http://www.oddsportal.com/tennis/germany/atp-stuttgart/results/ dumped to ./odds_data/raw_pages/ATP Stuttgart/ATP Stuttgart\n",
      "page http://www.oddsportal.com/tennis/germany/atp-stuttgart-doubles/results/ dumped to ./odds_data/raw_pages/ATP Stuttgart Doubles/ATP Stuttgart Doubles\n",
      "page http://www.oddsportal.com/tennis/hong-kong/atp-hong-kong/results/ dumped to ./odds_data/raw_pages/ATP Hong Kong/ATP Hong Kong\n",
      "page http://www.oddsportal.com/tennis/hungary/atp-budapest/results/ dumped to ./odds_data/raw_pages/ATP Budapest/ATP Budapest\n",
      "page http://www.oddsportal.com/tennis/hungary/atp-budapest-doubles/results/ dumped to ./odds_data/raw_pages/ATP Budapest Doubles/ATP Budapest Doubles\n",
      "page http://www.oddsportal.com/tennis/india/atp-chennai/results/ dumped to ./odds_data/raw_pages/ATP Chennai/ATP Chennai\n",
      "page http://www.oddsportal.com/tennis/india/atp-chennai-doubles/results/ dumped to ./odds_data/raw_pages/ATP Chennai Doubles/ATP Chennai Doubles\n",
      "page http://www.oddsportal.com/tennis/india/atp-pune/results/ dumped to ./odds_data/raw_pages/ATP Pune/ATP Pune\n",
      "page http://www.oddsportal.com/tennis/india/atp-pune-doubles/results/ dumped to ./odds_data/raw_pages/ATP Pune Doubles/ATP Pune Doubles\n",
      "page http://www.oddsportal.com/tennis/italy/atp-rome/results/ dumped to ./odds_data/raw_pages/ATP Rome/ATP Rome\n",
      "page http://www.oddsportal.com/tennis/italy/atp-rome-doubles/results/ dumped to ./odds_data/raw_pages/ATP Rome Doubles/ATP Rome Doubles\n",
      "page http://www.oddsportal.com/tennis/japan/atp-tokyo/results/ dumped to ./odds_data/raw_pages/ATP Tokyo/ATP Tokyo\n",
      "page http://www.oddsportal.com/tennis/japan/atp-tokyo-doubles/results/ dumped to ./odds_data/raw_pages/ATP Tokyo Doubles/ATP Tokyo Doubles\n",
      "page http://www.oddsportal.com/tennis/malaysia/atp-kuala-lumpur/results/ dumped to ./odds_data/raw_pages/ATP Kuala Lumpur/ATP Kuala Lumpur\n",
      "page http://www.oddsportal.com/tennis/malaysia/atp-kuala-lumpur-doubles/results/ dumped to ./odds_data/raw_pages/ATP Kuala Lumpur Doubles/ATP Kuala Lumpur Doubles\n",
      "page http://www.oddsportal.com/tennis/mexico/atp-acapulco/results/ dumped to ./odds_data/raw_pages/ATP Acapulco/ATP Acapulco\n",
      "page http://www.oddsportal.com/tennis/mexico/atp-acapulco-doubles/results/ dumped to ./odds_data/raw_pages/ATP Acapulco Doubles/ATP Acapulco Doubles\n",
      "page http://www.oddsportal.com/tennis/mexico/atp-los-cabos/results/ dumped to ./odds_data/raw_pages/ATP Los Cabos/ATP Los Cabos\n",
      "page http://www.oddsportal.com/tennis/mexico/atp-los-cabos-doubles/results/ dumped to ./odds_data/raw_pages/ATP Los Cabos Doubles/ATP Los Cabos Doubles\n",
      "page http://www.oddsportal.com/tennis/monaco/atp-monte-carlo/results/ dumped to ./odds_data/raw_pages/ATP Monte Carlo/ATP Monte Carlo\n",
      "page http://www.oddsportal.com/tennis/monaco/atp-monte-carlo-doubles/results/ dumped to ./odds_data/raw_pages/ATP Monte Carlo Doubles/ATP Monte Carlo Doubles\n",
      "page http://www.oddsportal.com/tennis/morocco/atp-casablanca/results/ dumped to ./odds_data/raw_pages/ATP Casablanca/ATP Casablanca\n",
      "page http://www.oddsportal.com/tennis/morocco/atp-casablanca-doubles/results/ dumped to ./odds_data/raw_pages/ATP Casablanca Doubles/ATP Casablanca Doubles\n",
      "page http://www.oddsportal.com/tennis/morocco/atp-marrakech/results/ dumped to ./odds_data/raw_pages/ATP Marrakech/ATP Marrakech\n",
      "page http://www.oddsportal.com/tennis/morocco/atp-marrakech-doubles/results/ dumped to ./odds_data/raw_pages/ATP Marrakech Doubles/ATP Marrakech Doubles\n",
      "page http://www.oddsportal.com/tennis/netherlands/atp-hertogenbosch/results/ dumped to ./odds_data/raw_pages/ATP Hertogenbosch/ATP Hertogenbosch\n",
      "page http://www.oddsportal.com/tennis/netherlands/atp-hertogenbosch-doubles/results/ dumped to ./odds_data/raw_pages/ATP Hertogenbosch Doubles/ATP Hertogenbosch Doubles\n",
      "page http://www.oddsportal.com/tennis/netherlands/atp-rotterdam/results/ dumped to ./odds_data/raw_pages/ATP Rotterdam/ATP Rotterdam\n",
      "page http://www.oddsportal.com/tennis/netherlands/atp-rotterdam-doubles/results/ dumped to ./odds_data/raw_pages/ATP Rotterdam Doubles/ATP Rotterdam Doubles\n",
      "page http://www.oddsportal.com/tennis/new-zealand/atp-auckland/results/ dumped to ./odds_data/raw_pages/ATP Auckland/ATP Auckland\n",
      "page http://www.oddsportal.com/tennis/new-zealand/atp-auckland-doubles/results/ dumped to ./odds_data/raw_pages/ATP Auckland Doubles/ATP Auckland Doubles\n",
      "page http://www.oddsportal.com/tennis/portugal/atp-estoril/results/ dumped to ./odds_data/raw_pages/ATP Estoril/ATP Estoril\n",
      "page http://www.oddsportal.com/tennis/portugal/atp-estoril-doubles/results/ dumped to ./odds_data/raw_pages/ATP Estoril Doubles/ATP Estoril Doubles\n",
      "page http://www.oddsportal.com/tennis/qatar/atp-doha/results/ dumped to ./odds_data/raw_pages/ATP Doha/ATP Doha\n",
      "page http://www.oddsportal.com/tennis/qatar/atp-doha-doubles/results/ dumped to ./odds_data/raw_pages/ATP Doha Doubles/ATP Doha Doubles\n",
      "page http://www.oddsportal.com/tennis/romania/atp-bucharest/results/ dumped to ./odds_data/raw_pages/ATP Bucharest/ATP Bucharest\n",
      "page http://www.oddsportal.com/tennis/romania/atp-bucharest-doubles/results/ dumped to ./odds_data/raw_pages/ATP Bucharest Doubles/ATP Bucharest Doubles\n",
      "page http://www.oddsportal.com/tennis/russia/atp-moscow/results/ dumped to ./odds_data/raw_pages/ATP Moscow/ATP Moscow\n",
      "page http://www.oddsportal.com/tennis/russia/atp-moscow-doubles/results/ dumped to ./odds_data/raw_pages/ATP Moscow Doubles/ATP Moscow Doubles\n",
      "page http://www.oddsportal.com/tennis/russia/atp-st-petersburg/results/ dumped to ./odds_data/raw_pages/ATP St. Petersburg/ATP St. Petersburg\n",
      "page http://www.oddsportal.com/tennis/russia/atp-st-petersburg-doubles/results/ dumped to ./odds_data/raw_pages/ATP St. Petersburg Doubles/ATP St. Petersburg Doubles\n",
      "page http://www.oddsportal.com/tennis/serbia/atp-belgrade/results/ dumped to ./odds_data/raw_pages/ATP Belgrade/ATP Belgrade\n",
      "page http://www.oddsportal.com/tennis/serbia/atp-belgrade-doubles/results/ dumped to ./odds_data/raw_pages/ATP Belgrade Doubles/ATP Belgrade Doubles\n",
      "page http://www.oddsportal.com/tennis/south-africa/atp-johannesburg/results/ dumped to ./odds_data/raw_pages/ATP Johannesburg/ATP Johannesburg\n",
      "page http://www.oddsportal.com/tennis/south-africa/atp-johannesburg-doubles/results/ dumped to ./odds_data/raw_pages/ATP Johannesburg Doubles/ATP Johannesburg Doubles\n",
      "page http://www.oddsportal.com/tennis/spain/atp-barcelona/results/ dumped to ./odds_data/raw_pages/ATP Barcelona/ATP Barcelona\n"
     ]
    },
    {
     "name": "stdout",
     "output_type": "stream",
     "text": [
      "page http://www.oddsportal.com/tennis/spain/atp-barcelona-doubles/results/ dumped to ./odds_data/raw_pages/ATP Barcelona Doubles/ATP Barcelona Doubles\n",
      "page http://www.oddsportal.com/tennis/spain/atp-madrid/results/ dumped to ./odds_data/raw_pages/ATP Madrid/ATP Madrid\n",
      "page http://www.oddsportal.com/tennis/spain/atp-madrid-doubles/results/ dumped to ./odds_data/raw_pages/ATP Madrid Doubles/ATP Madrid Doubles\n",
      "page http://www.oddsportal.com/tennis/spain/atp-valencia/results/ dumped to ./odds_data/raw_pages/ATP Valencia/ATP Valencia\n",
      "page http://www.oddsportal.com/tennis/spain/atp-valencia-doubles/results/ dumped to ./odds_data/raw_pages/ATP Valencia Doubles/ATP Valencia Doubles\n",
      "page http://www.oddsportal.com/tennis/sweden/atp-bastad/results/ dumped to ./odds_data/raw_pages/ATP Bastad/ATP Bastad\n",
      "page http://www.oddsportal.com/tennis/sweden/atp-bastad-doubles/results/ dumped to ./odds_data/raw_pages/ATP Bastad Doubles/ATP Bastad Doubles\n",
      "page http://www.oddsportal.com/tennis/sweden/atp-stockholm/results/ dumped to ./odds_data/raw_pages/ATP Stockholm/ATP Stockholm\n",
      "page http://www.oddsportal.com/tennis/sweden/atp-stockholm-doubles/results/ dumped to ./odds_data/raw_pages/ATP Stockholm Doubles/ATP Stockholm Doubles\n",
      "page http://www.oddsportal.com/tennis/switzerland/atp-basel/results/ dumped to ./odds_data/raw_pages/ATP Basel/ATP Basel\n",
      "page http://www.oddsportal.com/tennis/switzerland/atp-basel-doubles/results/ dumped to ./odds_data/raw_pages/ATP Basel Doubles/ATP Basel Doubles\n",
      "page http://www.oddsportal.com/tennis/switzerland/atp-geneva/results/ dumped to ./odds_data/raw_pages/ATP Geneva/ATP Geneva\n",
      "page http://www.oddsportal.com/tennis/switzerland/atp-geneva-doubles/results/ dumped to ./odds_data/raw_pages/ATP Geneva Doubles/ATP Geneva Doubles\n",
      "page http://www.oddsportal.com/tennis/switzerland/atp-gstaad/results/ dumped to ./odds_data/raw_pages/ATP Gstaad/ATP Gstaad\n",
      "page http://www.oddsportal.com/tennis/switzerland/atp-gstaad-doubles/results/ dumped to ./odds_data/raw_pages/ATP Gstaad Doubles/ATP Gstaad Doubles\n",
      "page http://www.oddsportal.com/tennis/thailand/atp-bangkok/results/ dumped to ./odds_data/raw_pages/ATP Bangkok/ATP Bangkok\n",
      "page http://www.oddsportal.com/tennis/thailand/atp-bangkok-doubles/results/ dumped to ./odds_data/raw_pages/ATP Bangkok Doubles/ATP Bangkok Doubles\n",
      "page http://www.oddsportal.com/tennis/turkey/atp-antalya/results/ dumped to ./odds_data/raw_pages/ATP Antalya/ATP Antalya\n",
      "page http://www.oddsportal.com/tennis/turkey/atp-antalya-doubles/results/ dumped to ./odds_data/raw_pages/ATP Antalya Doubles/ATP Antalya Doubles\n",
      "page http://www.oddsportal.com/tennis/turkey/atp-istanbul/results/ dumped to ./odds_data/raw_pages/ATP Istanbul/ATP Istanbul\n",
      "page http://www.oddsportal.com/tennis/turkey/atp-istanbul-doubles/results/ dumped to ./odds_data/raw_pages/ATP Istanbul Doubles/ATP Istanbul Doubles\n",
      "page http://www.oddsportal.com/tennis/usa/atp-atlanta/results/ dumped to ./odds_data/raw_pages/ATP Atlanta/ATP Atlanta\n",
      "page http://www.oddsportal.com/tennis/usa/atp-atlanta-doubles/results/ dumped to ./odds_data/raw_pages/ATP Atlanta Doubles/ATP Atlanta Doubles\n",
      "page http://www.oddsportal.com/tennis/usa/atp-cincinnati/results/ dumped to ./odds_data/raw_pages/ATP Cincinnati/ATP Cincinnati\n",
      "page http://www.oddsportal.com/tennis/usa/atp-cincinnati-doubles/results/ dumped to ./odds_data/raw_pages/ATP Cincinnati Doubles/ATP Cincinnati Doubles\n",
      "page http://www.oddsportal.com/tennis/usa/atp-delray-beach/results/ dumped to ./odds_data/raw_pages/ATP Delray Beach/ATP Delray Beach\n",
      "page http://www.oddsportal.com/tennis/usa/atp-delray-beach-doubles/results/ dumped to ./odds_data/raw_pages/ATP Delray Beach Doubles/ATP Delray Beach Doubles\n",
      "page http://www.oddsportal.com/tennis/usa/atp-houston/results/ dumped to ./odds_data/raw_pages/ATP Houston/ATP Houston\n",
      "page http://www.oddsportal.com/tennis/usa/atp-houston-doubles/results/ dumped to ./odds_data/raw_pages/ATP Houston Doubles/ATP Houston Doubles\n",
      "page http://www.oddsportal.com/tennis/usa/atp-indian-wells/results/ dumped to ./odds_data/raw_pages/ATP Indian Wells/ATP Indian Wells\n",
      "page http://www.oddsportal.com/tennis/usa/atp-indian-wells-doubles/results/ dumped to ./odds_data/raw_pages/ATP Indian Wells Doubles/ATP Indian Wells Doubles\n",
      "page http://www.oddsportal.com/tennis/usa/atp-indianapolis/results/ dumped to ./odds_data/raw_pages/ATP Indianapolis/ATP Indianapolis\n",
      "page http://www.oddsportal.com/tennis/usa/atp-indianapolis-doubles/results/ dumped to ./odds_data/raw_pages/ATP Indianapolis Doubles/ATP Indianapolis Doubles\n",
      "page http://www.oddsportal.com/tennis/usa/atp-los-angeles/results/ dumped to ./odds_data/raw_pages/ATP Los Angeles/ATP Los Angeles\n",
      "page http://www.oddsportal.com/tennis/usa/atp-los-angeles-doubles/results/ dumped to ./odds_data/raw_pages/ATP Los Angeles Doubles/ATP Los Angeles Doubles\n",
      "page http://www.oddsportal.com/tennis/usa/atp-memphis/results/ dumped to ./odds_data/raw_pages/ATP Memphis/ATP Memphis\n",
      "page http://www.oddsportal.com/tennis/usa/atp-memphis-doubles/results/ dumped to ./odds_data/raw_pages/ATP Memphis Doubles/ATP Memphis Doubles\n",
      "page http://www.oddsportal.com/tennis/usa/atp-miami/results/ dumped to ./odds_data/raw_pages/ATP Miami/ATP Miami\n",
      "page http://www.oddsportal.com/tennis/usa/atp-miami-doubles/results/ dumped to ./odds_data/raw_pages/ATP Miami Doubles/ATP Miami Doubles\n",
      "page http://www.oddsportal.com/tennis/usa/atp-new-haven/results/ dumped to ./odds_data/raw_pages/ATP New Haven/ATP New Haven\n",
      "page http://www.oddsportal.com/tennis/usa/atp-new-haven-doubles/results/ dumped to ./odds_data/raw_pages/ATP New Haven Doubles/ATP New Haven Doubles\n",
      "page http://www.oddsportal.com/tennis/usa/atp-new-york/results/ dumped to ./odds_data/raw_pages/ATP New York/ATP New York\n",
      "page http://www.oddsportal.com/tennis/usa/atp-new-york-doubles/results/ dumped to ./odds_data/raw_pages/ATP New York Doubles/ATP New York Doubles\n",
      "page http://www.oddsportal.com/tennis/usa/atp-newport/results/ dumped to ./odds_data/raw_pages/ATP Newport/ATP Newport\n",
      "page http://www.oddsportal.com/tennis/usa/atp-newport-doubles/results/ dumped to ./odds_data/raw_pages/ATP Newport Doubles/ATP Newport Doubles\n",
      "page http://www.oddsportal.com/tennis/usa/atp-san-jose/results/ dumped to ./odds_data/raw_pages/ATP San Jose/ATP San Jose\n",
      "page http://www.oddsportal.com/tennis/usa/atp-san-jose-doubles/results/ dumped to ./odds_data/raw_pages/ATP San Jose Doubles/ATP San Jose Doubles\n",
      "page http://www.oddsportal.com/tennis/usa/atp-us-open/results/ dumped to ./odds_data/raw_pages/ATP US Open/ATP US Open\n",
      "page http://www.oddsportal.com/tennis/usa/atp-us-open-doubles/results/ dumped to ./odds_data/raw_pages/ATP US Open Doubles/ATP US Open Doubles\n",
      "page http://www.oddsportal.com/tennis/usa/atp-washington/results/ dumped to ./odds_data/raw_pages/ATP Washington/ATP Washington\n",
      "page http://www.oddsportal.com/tennis/usa/atp-washington-doubles/results/ dumped to ./odds_data/raw_pages/ATP Washington Doubles/ATP Washington Doubles\n",
      "page http://www.oddsportal.com/tennis/usa/atp-winston-salem/results/ dumped to ./odds_data/raw_pages/ATP Winston-Salem/ATP Winston-Salem\n",
      "page http://www.oddsportal.com/tennis/usa/atp-winston-salem-doubles/results/ dumped to ./odds_data/raw_pages/ATP Winston-Salem Doubles/ATP Winston-Salem Doubles\n",
      "page http://www.oddsportal.com/tennis/united-arab-emirates/atp-dubai/results/ dumped to ./odds_data/raw_pages/ATP Dubai/ATP Dubai\n",
      "page http://www.oddsportal.com/tennis/united-arab-emirates/atp-dubai-doubles/results/ dumped to ./odds_data/raw_pages/ATP Dubai Doubles/ATP Dubai Doubles\n",
      "page http://www.oddsportal.com/tennis/united-kingdom/atp-eastbourne/results/ dumped to ./odds_data/raw_pages/ATP Eastbourne/ATP Eastbourne\n",
      "page http://www.oddsportal.com/tennis/united-kingdom/atp-eastbourne-doubles/results/ dumped to ./odds_data/raw_pages/ATP Eastbourne Doubles/ATP Eastbourne Doubles\n",
      "page http://www.oddsportal.com/tennis/united-kingdom/atp-london/results/ dumped to ./odds_data/raw_pages/ATP London/ATP London\n",
      "page http://www.oddsportal.com/tennis/united-kingdom/atp-london-doubles/results/ dumped to ./odds_data/raw_pages/ATP London Doubles/ATP London Doubles\n",
      "page http://www.oddsportal.com/tennis/united-kingdom/atp-nottingham/results/ dumped to ./odds_data/raw_pages/ATP Nottingham/ATP Nottingham\n"
     ]
    },
    {
     "name": "stdout",
     "output_type": "stream",
     "text": [
      "page http://www.oddsportal.com/tennis/united-kingdom/atp-nottingham-doubles/results/ dumped to ./odds_data/raw_pages/ATP Nottingham Doubles/ATP Nottingham Doubles\n",
      "page http://www.oddsportal.com/tennis/united-kingdom/atp-wimbledon/results/ dumped to ./odds_data/raw_pages/ATP Wimbledon/ATP Wimbledon\n",
      "page http://www.oddsportal.com/tennis/united-kingdom/atp-wimbledon-doubles/results/ dumped to ./odds_data/raw_pages/ATP Wimbledon Doubles/ATP Wimbledon Doubles\n",
      "page http://www.oddsportal.com/tennis/world/atp-davis-cup-group-i/results/ dumped to ./odds_data/raw_pages/ATP Davis Cup - Group I/ATP Davis Cup - Group I\n",
      "page http://www.oddsportal.com/tennis/world/atp-davis-cup-group-i-doubles/results/ dumped to ./odds_data/raw_pages/ATP Davis Cup - Group I Doubles/ATP Davis Cup - Group I Doubles\n",
      "page http://www.oddsportal.com/tennis/world/atp-davis-cup-group-ii/results/ dumped to ./odds_data/raw_pages/ATP Davis Cup - Group II/ATP Davis Cup - Group II\n",
      "page http://www.oddsportal.com/tennis/world/atp-davis-cup-group-ii-doubles/results/ dumped to ./odds_data/raw_pages/ATP Davis Cup - Group II Doubles/ATP Davis Cup - Group II Doubles\n",
      "page http://www.oddsportal.com/tennis/world/atp-davis-cup-group-iii/results/ dumped to ./odds_data/raw_pages/ATP Davis Cup - Group III/ATP Davis Cup - Group III\n",
      "page http://www.oddsportal.com/tennis/world/atp-davis-cup-group-iii-doubles/results/ dumped to ./odds_data/raw_pages/ATP Davis Cup - Group III Doubles/ATP Davis Cup - Group III Doubles\n",
      "page http://www.oddsportal.com/tennis/world/atp-davis-cup-group-iv/results/ dumped to ./odds_data/raw_pages/ATP Davis Cup - Group IV/ATP Davis Cup - Group IV\n",
      "page http://www.oddsportal.com/tennis/world/atp-davis-cup-group-iv-doubles/results/ dumped to ./odds_data/raw_pages/ATP Davis Cup - Group IV Doubles/ATP Davis Cup - Group IV Doubles\n",
      "page http://www.oddsportal.com/tennis/world/atp-davis-cup-world-group/results/ dumped to ./odds_data/raw_pages/ATP Davis Cup - World Group/ATP Davis Cup - World Group\n",
      "page http://www.oddsportal.com/tennis/world/atp-davis-cup-world-group-doubles/results/ dumped to ./odds_data/raw_pages/ATP Davis Cup - World Group Doubles/ATP Davis Cup - World Group Doubles\n",
      "page http://www.oddsportal.com/tennis/world/atp-finals-london/results/ dumped to ./odds_data/raw_pages/ATP Finals - London/ATP Finals - London\n",
      "page http://www.oddsportal.com/tennis/world/atp-finals-london-doubles/results/ dumped to ./odds_data/raw_pages/ATP Finals - London Doubles/ATP Finals - London Doubles\n",
      "page http://www.oddsportal.com/tennis/world/atp-next-gen-finals-milan/results/ dumped to ./odds_data/raw_pages/ATP Next Gen Finals - Milan/ATP Next Gen Finals - Milan\n",
      "page http://www.oddsportal.com/tennis/world/atp-olympic-games/results/ dumped to ./odds_data/raw_pages/ATP Olympic Games/ATP Olympic Games\n",
      "page http://www.oddsportal.com/tennis/world/atp-olympic-games-doubles/results/ dumped to ./odds_data/raw_pages/ATP Olympic Games Doubles/ATP Olympic Games Doubles\n"
     ]
    }
   ],
   "source": [
    "for tourney in tourneys[56:]:\n",
    "    os.makedirs('./odds_data/raw_pages/{}'.format(tourney.text))\n",
    "    drive_and_move_and_dump(base+tourney['href'],'./odds_data/raw_pages/{}/{}'.format(tourney.text,tourney.text))\n",
    "    time.sleep(10)"
   ]
  },
  {
   "cell_type": "markdown",
   "metadata": {},
   "source": [
    "# Get Previous Years Data"
   ]
  },
  {
   "cell_type": "code",
   "execution_count": 56,
   "metadata": {},
   "outputs": [],
   "source": [
    "from glob import glob"
   ]
  },
  {
   "cell_type": "code",
   "execution_count": 57,
   "metadata": {},
   "outputs": [],
   "source": [
    "files=glob('./odds_data/raw_pages/ATP*')"
   ]
  },
  {
   "cell_type": "code",
   "execution_count": 60,
   "metadata": {},
   "outputs": [],
   "source": [
    "file=files[0]"
   ]
  },
  {
   "cell_type": "code",
   "execution_count": 61,
   "metadata": {},
   "outputs": [
    {
     "data": {
      "text/plain": [
       "'./odds_data/raw_pages/ATP Atlanta Doubles.html'"
      ]
     },
     "execution_count": 61,
     "metadata": {},
     "output_type": "execute_result"
    }
   ],
   "source": [
    "file"
   ]
  }
 ],
 "metadata": {
  "kernelspec": {
   "display_name": "Python 3",
   "language": "python",
   "name": "python3"
  },
  "language_info": {
   "codemirror_mode": {
    "name": "ipython",
    "version": 3
   },
   "file_extension": ".py",
   "mimetype": "text/x-python",
   "name": "python",
   "nbconvert_exporter": "python",
   "pygments_lexer": "ipython3",
   "version": "3.6.6"
  }
 },
 "nbformat": 4,
 "nbformat_minor": 2
}
