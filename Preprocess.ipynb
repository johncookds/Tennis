{
 "cells": [
  {
   "cell_type": "code",
   "execution_count": 1,
   "metadata": {},
   "outputs": [],
   "source": [
    "import pandas as pd\n",
    "import numpy as np\n",
    "from tqdm import tqdm_notebook"
   ]
  },
  {
   "cell_type": "markdown",
   "metadata": {},
   "source": [
    "# Load Data"
   ]
  },
  {
   "cell_type": "code",
   "execution_count": 2,
   "metadata": {},
   "outputs": [],
   "source": [
    "alldfs=[]\n",
    "for yr in range(2000,2019):\n",
    "    alldfs.append(pd.read_csv('./raw_data/atp_matches_{}.csv'.format(yr)))"
   ]
  },
  {
   "cell_type": "code",
   "execution_count": 3,
   "metadata": {},
   "outputs": [],
   "source": [
    "df=pd.concat(alldfs)"
   ]
  },
  {
   "cell_type": "code",
   "execution_count": 4,
   "metadata": {},
   "outputs": [
    {
     "data": {
      "text/plain": [
       "(58563, 49)"
      ]
     },
     "execution_count": 4,
     "metadata": {},
     "output_type": "execute_result"
    }
   ],
   "source": [
    "df.shape"
   ]
  },
  {
   "cell_type": "markdown",
   "metadata": {},
   "source": [
    "# Win Percentage"
   ]
  },
  {
   "cell_type": "code",
   "execution_count": 5,
   "metadata": {},
   "outputs": [
    {
     "data": {
      "text/plain": [
       "A    31849\n",
       "M    10743\n",
       "G     9652\n",
       "D     5890\n",
       "F      246\n",
       "C      120\n",
       "Name: tourney_level, dtype: int64"
      ]
     },
     "execution_count": 5,
     "metadata": {},
     "output_type": "execute_result"
    }
   ],
   "source": [
    "df.tourney_level.value_counts()"
   ]
  },
  {
   "cell_type": "code",
   "execution_count": 6,
   "metadata": {},
   "outputs": [
    {
     "data": {
      "text/plain": [
       "0                     Antony Dupuis\n",
       "1                 Fernando Gonzalez\n",
       "2               Paradorn Srichaphan\n",
       "3                     Jan Siemerink\n",
       "4                 Jason Stoltenberg\n",
       "5                        Jiri Vanek\n",
       "6                  Martin Rodriguez\n",
       "7                    Paul Goldstein\n",
       "8                     Nicolas Massu\n",
       "9                       Jan Kroslak\n",
       "10                  Michael Russell\n",
       "11                   Gianluca Pozzi\n",
       "12                     Razvan Sabau\n",
       "13                  Markus Hantschk\n",
       "14                   Xavier Malisse\n",
       "15                    Ramon Delgado\n",
       "16                Fernando Gonzalez\n",
       "17              Paradorn Srichaphan\n",
       "18                       Jiri Vanek\n",
       "19                 Martin Rodriguez\n",
       "20                    Nicolas Massu\n",
       "21                   Gianluca Pozzi\n",
       "22                  Markus Hantschk\n",
       "23                    Ramon Delgado\n",
       "24                Fernando Gonzalez\n",
       "25                 Martin Rodriguez\n",
       "26                    Nicolas Massu\n",
       "27                    Ramon Delgado\n",
       "28                Fernando Gonzalez\n",
       "29                    Nicolas Massu\n",
       "                   ...             \n",
       "2464                  Ryan Harrison\n",
       "2465                    Sam Querrey\n",
       "2466                     John Isner\n",
       "2467                   Pedja Krstin\n",
       "2468    Diego Sebastian Schwartzman\n",
       "2469                    Guido Pella\n",
       "2470               Horacio Zeballos\n",
       "2471                  Dominic Thiem\n",
       "2472                   Dennis Novak\n",
       "2473                  Dominic Thiem\n",
       "2474                   Milos Raonic\n",
       "2475               Denis Shapovalov\n",
       "2476                   Milos Raonic\n",
       "2477                   Daniel Evans\n",
       "2478               Djurabek Karimov\n",
       "2479                 Cameron Norrie\n",
       "2480                  Zsombor Piros\n",
       "2481                    Lukas Rosol\n",
       "2482                    Jiri Vesely\n",
       "2483                    Lukas Rosol\n",
       "2484                    Taro Daniel\n",
       "2485             Yoshihito Nishioka\n",
       "2486                Yosuke Watanuki\n",
       "2487                    Laslo Djere\n",
       "2488                  Dusan Lajovic\n",
       "2489                   Pedja Krstin\n",
       "2490                Markus Eriksson\n",
       "2491                Henri Laaksonen\n",
       "2492                Henri Laaksonen\n",
       "2493                Jonathan Mridha\n",
       "Name: winner_name, Length: 58563, dtype: object"
      ]
     },
     "execution_count": 6,
     "metadata": {},
     "output_type": "execute_result"
    }
   ],
   "source": [
    "df.winner_name"
   ]
  },
  {
   "cell_type": "code",
   "execution_count": 7,
   "metadata": {},
   "outputs": [],
   "source": [
    "def win_percentage(df,player,surface=False,max_date=False,min_date=False,n=False):\n",
    "    if surface:\n",
    "        df=df[df.surface==surface]\n",
    "    if max_date:\n",
    "        df=df[(df.tourney_date < max_date) & (df.tourney_date > min_date)].sort_values('tourney_date')\n",
    "    matches=df[(df.winner_name==player) | (df.loser_name==player)]\n",
    "    if n:\n",
    "        matches=matches.tail(n)\n",
    "    wins=len(matches[matches.winner_name==player])\n",
    "    losses=len(matches[matches.loser_name==player])\n",
    "    return [wins,losses,wins/(wins+losses)]"
   ]
  },
  {
   "cell_type": "code",
   "execution_count": 8,
   "metadata": {},
   "outputs": [
    {
     "data": {
      "text/plain": [
       "[18, 2, 0.9]"
      ]
     },
     "execution_count": 8,
     "metadata": {},
     "output_type": "execute_result"
    }
   ],
   "source": [
    "win_percentage(df,'Rafael Nadal',surface='Clay',max_date=20100101,n=20)"
   ]
  },
  {
   "cell_type": "markdown",
   "metadata": {},
   "source": [
    "# Winning % on 1st Serve"
   ]
  },
  {
   "cell_type": "code",
   "execution_count": 9,
   "metadata": {},
   "outputs": [],
   "source": [
    "def win_1st_serve(df,player,surface=False,min_date=False,max_date=False,n=False):\n",
    "    if surface:\n",
    "        df=df[df.surface==surface]\n",
    "    if max_date:\n",
    "        df=df[(df.tourney_date < max_date) & (df.tourney_date > min_date)].sort_values('tourney_date')\n",
    "    matches=df[(df.winner_name==player) | (df.loser_name==player)]\n",
    "    if n:\n",
    "        matches=matches.tail(n)\n",
    "    wins=matches[matches.winner_name==player]\n",
    "    losses=matches[matches.loser_name==player]\n",
    "    num=np.sum(losses.l_1stWon)+np.sum(wins.w_1stWon)\n",
    "    denom=np.sum(losses.l_svpt)+np.sum(wins.w_svpt)\n",
    "    return [num,denom,num/denom]"
   ]
  },
  {
   "cell_type": "code",
   "execution_count": 10,
   "metadata": {},
   "outputs": [
    {
     "data": {
      "text/plain": [
       "[76.0, 163.0, 0.4662576687116564]"
      ]
     },
     "execution_count": 10,
     "metadata": {},
     "output_type": "execute_result"
    }
   ],
   "source": [
    "win_1st_serve(df,'Rafael Nadal',surface='Clay',max_date=20160101,n=2)"
   ]
  },
  {
   "cell_type": "markdown",
   "metadata": {},
   "source": [
    "# Winning % on 2nd Serve"
   ]
  },
  {
   "cell_type": "code",
   "execution_count": 11,
   "metadata": {},
   "outputs": [],
   "source": [
    "def win_2nd_serve(df,player,surface=False,max_date=False,min_date=False,n=False):\n",
    "    if surface:\n",
    "        df=df[df.surface==surface]\n",
    "    if max_date:\n",
    "        df=df[(df.tourney_date < max_date) & (df.tourney_date > min_date)].sort_values('tourney_date')\n",
    "    matches=df[(df.winner_name==player) | (df.loser_name==player)]\n",
    "    if n:\n",
    "        matches=matches.tail(n)\n",
    "    wins=matches[matches.winner_name==player]\n",
    "    losses=matches[matches.loser_name==player]\n",
    "    l_2nd_serves=np.sum(losses.l_svpt)-np.sum(losses.l_1stIn)\n",
    "    w_2nd_serves=np.sum(wins.w_svpt)-np.sum(wins.w_1stIn)\n",
    "    num=np.sum(losses.l_2ndWon)+np.sum(wins.w_2ndWon)\n",
    "    denom=l_2nd_serves+w_2nd_serves\n",
    "    stat=num/denom\n",
    "    return [num,denom,stat]"
   ]
  },
  {
   "cell_type": "code",
   "execution_count": 12,
   "metadata": {},
   "outputs": [
    {
     "data": {
      "text/plain": [
       "[210.0, 398.0, 0.5276381909547738]"
      ]
     },
     "execution_count": 12,
     "metadata": {},
     "output_type": "execute_result"
    }
   ],
   "source": [
    "win_2nd_serve(df,'Rafael Nadal',surface='Clay',max_date=20160101,n=20)"
   ]
  },
  {
   "cell_type": "markdown",
   "metadata": {},
   "source": [
    "# Winning % on Return Serve"
   ]
  },
  {
   "cell_type": "code",
   "execution_count": 13,
   "metadata": {},
   "outputs": [],
   "source": [
    "def win_return_serve(df,player,surface=False,max_date=False,min_date=False,n=False):\n",
    "    if surface:\n",
    "        df=df[df.surface==surface]\n",
    "    if max_date:\n",
    "        df=df[(df.tourney_date < max_date) & (df.tourney_date > min_date)].sort_values('tourney_date')\n",
    "    matches=df[(df.winner_name==player) | (df.loser_name==player)]\n",
    "    if n:\n",
    "        matches=matches.tail(n)\n",
    "    wins=matches[matches.winner_name==player]\n",
    "    losses=matches[matches.loser_name==player]\n",
    "    wins_opp_1st_in=np.sum(wins.l_1stIn)\n",
    "    losses_opp_1st_in=np.sum(losses.w_1stIn)\n",
    "    wins_opp_1st_won=np.sum(wins.l_1stWon)\n",
    "    losses_opp_1st_won=np.sum(losses.w_1stWon)\n",
    "    wins_opp_2nd_won=np.sum(wins.l_2ndWon)\n",
    "    losses_opp_2nd_won=np.sum(losses.w_2ndWon)\n",
    "    wins_opp_svpt=np.sum(wins.l_svpt)\n",
    "    losses_opp_svpt=np.sum(losses.w_svpt)\n",
    "    wins_opp_df=np.sum(wins.l_df)\n",
    "    losses_opp_df=np.sum(losses.w_df)\n",
    "    num=(wins_opp_1st_in-wins_opp_1st_won+losses_opp_1st_in-losses_opp_1st_won)+(wins_opp_svpt+losses_opp_svpt-wins_opp_1st_in-losses_opp_1st_in-wins_opp_2nd_won-losses_opp_2nd_won-wins_opp_df-losses_opp_df)\n",
    "    denom=wins_opp_svpt+losses_opp_svpt\n",
    "    return [num,denom,num/denom]"
   ]
  },
  {
   "cell_type": "code",
   "execution_count": 14,
   "metadata": {},
   "outputs": [
    {
     "data": {
      "text/plain": [
       "[632.0, 1490.0, 0.42416107382550333]"
      ]
     },
     "execution_count": 14,
     "metadata": {},
     "output_type": "execute_result"
    }
   ],
   "source": [
    "win_return_serve(df,'Rafael Nadal',surface='Clay',max_date=20160101,n=20)"
   ]
  },
  {
   "cell_type": "markdown",
   "metadata": {},
   "source": [
    "# Preprocess"
   ]
  },
  {
   "cell_type": "code",
   "execution_count": 15,
   "metadata": {},
   "outputs": [
    {
     "data": {
      "text/plain": [
       "Index(['tourney_id', 'tourney_name', 'surface', 'draw_size', 'tourney_level',\n",
       "       'tourney_date', 'match_num', 'winner_id', 'winner_seed', 'winner_entry',\n",
       "       'winner_name', 'winner_hand', 'winner_ht', 'winner_ioc', 'winner_age',\n",
       "       'winner_rank', 'winner_rank_points', 'loser_id', 'loser_seed',\n",
       "       'loser_entry', 'loser_name', 'loser_hand', 'loser_ht', 'loser_ioc',\n",
       "       'loser_age', 'loser_rank', 'loser_rank_points', 'score', 'best_of',\n",
       "       'round', 'minutes', 'w_ace', 'w_df', 'w_svpt', 'w_1stIn', 'w_1stWon',\n",
       "       'w_2ndWon', 'w_SvGms', 'w_bpSaved', 'w_bpFaced', 'l_ace', 'l_df',\n",
       "       'l_svpt', 'l_1stIn', 'l_1stWon', 'l_2ndWon', 'l_SvGms', 'l_bpSaved',\n",
       "       'l_bpFaced'],\n",
       "      dtype='object')"
      ]
     },
     "execution_count": 15,
     "metadata": {},
     "output_type": "execute_result"
    }
   ],
   "source": [
    "df.columns"
   ]
  },
  {
   "cell_type": "code",
   "execution_count": 16,
   "metadata": {},
   "outputs": [],
   "source": [
    "df['dummy_surface']=df['surface']"
   ]
  },
  {
   "cell_type": "code",
   "execution_count": 17,
   "metadata": {},
   "outputs": [],
   "source": [
    "df=pd.get_dummies(df,columns=['dummy_surface'])"
   ]
  },
  {
   "cell_type": "code",
   "execution_count": 18,
   "metadata": {},
   "outputs": [
    {
     "data": {
      "text/plain": [
       "Index(['tourney_id', 'tourney_name', 'surface', 'draw_size', 'tourney_level',\n",
       "       'tourney_date', 'match_num', 'winner_id', 'winner_seed', 'winner_entry',\n",
       "       'winner_name', 'winner_hand', 'winner_ht', 'winner_ioc', 'winner_age',\n",
       "       'winner_rank', 'winner_rank_points', 'loser_id', 'loser_seed',\n",
       "       'loser_entry', 'loser_name', 'loser_hand', 'loser_ht', 'loser_ioc',\n",
       "       'loser_age', 'loser_rank', 'loser_rank_points', 'score', 'best_of',\n",
       "       'round', 'minutes', 'w_ace', 'w_df', 'w_svpt', 'w_1stIn', 'w_1stWon',\n",
       "       'w_2ndWon', 'w_SvGms', 'w_bpSaved', 'w_bpFaced', 'l_ace', 'l_df',\n",
       "       'l_svpt', 'l_1stIn', 'l_1stWon', 'l_2ndWon', 'l_SvGms', 'l_bpSaved',\n",
       "       'l_bpFaced', 'dummy_surface_Carpet', 'dummy_surface_Clay',\n",
       "       'dummy_surface_Grass', 'dummy_surface_Hard', 'dummy_surface_None'],\n",
       "      dtype='object')"
      ]
     },
     "execution_count": 18,
     "metadata": {},
     "output_type": "execute_result"
    }
   ],
   "source": [
    "df.columns"
   ]
  },
  {
   "cell_type": "code",
   "execution_count": 19,
   "metadata": {},
   "outputs": [],
   "source": [
    "def process_match(entry):\n",
    "    p1=entry.winner_name\n",
    "    p2=entry.loser_name\n",
    "    surface=entry.surface\n",
    "    p1_seed=entry.winner_seed\n",
    "    p2_seed=entry.loser_seed\n",
    "    p1_rank=entry.winner_rank\n",
    "    p2_rank=entry.loser_rank\n",
    "    dummy_surface=[entry.dummy_surface_Carpet,entry.dummy_surface_Clay,entry.dummy_surface_Grass,entry.dummy_surface_Hard,entry.dummy_surface_None]\n",
    "    p1_stats=[p1_seed,p1_rank]\n",
    "    for func in [win_percentage,win_1st_serve,win_2nd_serve,win_return_serve]:\n",
    "        p1_stats.extend(func(df,p1,max_date=entry.tourney_date-1,min_date=entry.tourney_date-50000))\n",
    "        p1_stats.extend(func(df,p1,max_date=entry.tourney_date-1,min_date=entry.tourney_date-10000))\n",
    "        p1_stats.extend(func(df,p1,surface=surface,max_date=entry.tourney_date-1,min_date=entry.tourney_date-50000))\n",
    "        p1_stats.extend(func(df,p1,surface=surface,max_date=entry.tourney_date-1,min_date=entry.tourney_date-10000))\n",
    "    p2_stats=[p2_seed,p2_rank]\n",
    "    for func in [win_percentage,win_1st_serve,win_2nd_serve,win_return_serve]:\n",
    "        p2_stats.extend(func(df,p2,max_date=entry.tourney_date-1,min_date=entry.tourney_date-50000))\n",
    "        p2_stats.extend(func(df,p2,max_date=entry.tourney_date-1,min_date=entry.tourney_date-10000))\n",
    "        p2_stats.extend(func(df,p2,surface=surface,max_date=entry.tourney_date-1,min_date=entry.tourney_date-50000))\n",
    "        p2_stats.extend(func(df,p2,surface=surface,max_date=entry.tourney_date-1,min_date=entry.tourney_date-10000))\n",
    "    return [p1_stats,p2_stats]"
   ]
  },
  {
   "cell_type": "code",
   "execution_count": 20,
   "metadata": {},
   "outputs": [],
   "source": [
    "df=df.reset_index()"
   ]
  },
  {
   "cell_type": "code",
   "execution_count": 21,
   "metadata": {},
   "outputs": [],
   "source": [
    "df=df[df.tourney_date>20100101]"
   ]
  },
  {
   "cell_type": "code",
   "execution_count": 22,
   "metadata": {},
   "outputs": [
    {
     "data": {
      "text/plain": [
       "(26252, 55)"
      ]
     },
     "execution_count": 22,
     "metadata": {},
     "output_type": "execute_result"
    }
   ],
   "source": [
    "df.shape"
   ]
  },
  {
   "cell_type": "code",
   "execution_count": 23,
   "metadata": {},
   "outputs": [
    {
     "data": {
      "application/vnd.jupyter.widget-view+json": {
       "model_id": "ddf3b7d63d53457d978b8510f731b321",
       "version_major": 2,
       "version_minor": 0
      },
      "text/plain": [
       "HBox(children=(IntProgress(value=1, bar_style='info', max=1), HTML(value='')))"
      ]
     },
     "metadata": {},
     "output_type": "display_data"
    },
    {
     "name": "stderr",
     "output_type": "stream",
     "text": [
      "/home/hal/anaconda3/envs/tennis/lib/python3.6/site-packages/ipykernel_launcher.py:13: RuntimeWarning: invalid value encountered in double_scalars\n",
      "  del sys.path[0]\n",
      "/home/hal/anaconda3/envs/tennis/lib/python3.6/site-packages/ipykernel_launcher.py:15: RuntimeWarning: invalid value encountered in double_scalars\n",
      "  from ipykernel import kernelapp as app\n",
      "/home/hal/anaconda3/envs/tennis/lib/python3.6/site-packages/ipykernel_launcher.py:23: RuntimeWarning: invalid value encountered in double_scalars\n"
     ]
    },
    {
     "name": "stdout",
     "output_type": "stream",
     "text": [
      "\n"
     ]
    }
   ],
   "source": [
    "data=[]\n",
    "cnt=0\n",
    "for entry in tqdm_notebook(df.itertuples()):\n",
    "    try:\n",
    "        stats=process_match(entry)\n",
    "        data.append(stats)\n",
    "    except:\n",
    "        cnt+=1"
   ]
  },
  {
   "cell_type": "code",
   "execution_count": 31,
   "metadata": {},
   "outputs": [],
   "source": [
    "clean_data=[]\n",
    "from copy import deepcopy\n",
    "for x1,x2 in data:\n",
    "    if np.isnan(x1[2:]).any() or np.isnan(x2[2:]).any():\n",
    "        continue\n",
    "    clean_data.append([x1,x2])"
   ]
  },
  {
   "cell_type": "code",
   "execution_count": 32,
   "metadata": {},
   "outputs": [
    {
     "data": {
      "text/plain": [
       "21557"
      ]
     },
     "execution_count": 32,
     "metadata": {},
     "output_type": "execute_result"
    }
   ],
   "source": [
    "len(clean_data)"
   ]
  },
  {
   "cell_type": "code",
   "execution_count": 33,
   "metadata": {},
   "outputs": [],
   "source": [
    "norm=[]\n",
    "for x1,x2 in clean_data:\n",
    "    norm.extend([x1,x2])"
   ]
  },
  {
   "cell_type": "code",
   "execution_count": 34,
   "metadata": {},
   "outputs": [],
   "source": [
    "maxs=np.nanmax(norm,axis=0)"
   ]
  },
  {
   "cell_type": "code",
   "execution_count": 35,
   "metadata": {},
   "outputs": [],
   "source": [
    "special_max=maxs[0:2]"
   ]
  },
  {
   "cell_type": "code",
   "execution_count": 36,
   "metadata": {},
   "outputs": [],
   "source": [
    "maxs+=maxs*.05"
   ]
  },
  {
   "cell_type": "code",
   "execution_count": 43,
   "metadata": {},
   "outputs": [],
   "source": [
    "norm_data=[]\n",
    "results=[]\n",
    "from copy import deepcopy\n",
    "for x1,x2 in clean_data:\n",
    "    for entry in [x1,x2]:\n",
    "        for ind in range(len(entry)):\n",
    "            if ind<=1:\n",
    "                entry[ind]=((entry[ind]-special_max[ind]-1)/-1)\n",
    "            entry[ind]/=maxs[ind]\n",
    "    if x1[1]<x2[1]:\n",
    "        st=deepcopy(x1)\n",
    "        st.extend(x2)\n",
    "        results.append(0)\n",
    "    else:\n",
    "        st=deepcopy(x2)\n",
    "        st.extend(x1)\n",
    "        results.append(1)\n",
    "    norm_data.append(st)"
   ]
  },
  {
   "cell_type": "code",
   "execution_count": 44,
   "metadata": {},
   "outputs": [],
   "source": [
    "norm_data=np.array(norm_data)"
   ]
  },
  {
   "cell_type": "code",
   "execution_count": 45,
   "metadata": {},
   "outputs": [],
   "source": [
    "norm_data=np.nan_to_num(norm_data)"
   ]
  },
  {
   "cell_type": "code",
   "execution_count": 46,
   "metadata": {},
   "outputs": [],
   "source": [
    "results=np.array(results)"
   ]
  },
  {
   "cell_type": "code",
   "execution_count": 47,
   "metadata": {},
   "outputs": [
    {
     "data": {
      "text/plain": [
       "21557"
      ]
     },
     "execution_count": 47,
     "metadata": {},
     "output_type": "execute_result"
    }
   ],
   "source": [
    "len(results)"
   ]
  },
  {
   "cell_type": "code",
   "execution_count": 49,
   "metadata": {},
   "outputs": [],
   "source": [
    "import pickle"
   ]
  },
  {
   "cell_type": "code",
   "execution_count": 50,
   "metadata": {},
   "outputs": [],
   "source": [
    "np.save('./processed_data/since_2010_processed_data.npy',norm_data)"
   ]
  },
  {
   "cell_type": "code",
   "execution_count": 51,
   "metadata": {},
   "outputs": [],
   "source": [
    "np.save('./processed_data/since_2010_results.npy',results)"
   ]
  }
 ],
 "metadata": {
  "kernelspec": {
   "display_name": "Python 3",
   "language": "python",
   "name": "python3"
  },
  "language_info": {
   "codemirror_mode": {
    "name": "ipython",
    "version": 3
   },
   "file_extension": ".py",
   "mimetype": "text/x-python",
   "name": "python",
   "nbconvert_exporter": "python",
   "pygments_lexer": "ipython3",
   "version": "3.6.6"
  }
 },
 "nbformat": 4,
 "nbformat_minor": 2
}
